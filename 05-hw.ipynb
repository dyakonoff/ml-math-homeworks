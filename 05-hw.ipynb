{
 "cells": [
  {
   "cell_type": "markdown",
   "metadata": {},
   "source": [
    "# Домашнее задание к классу N5\n",
    "\n",
    "**Цель:** Для матрицы \n",
    "\n",
    "$$A = \\begin{pmatrix} \n",
    "3 & 7 \\\\\n",
    "5 & 2 \n",
    "\\end{pmatrix}$$\n",
    "\n",
    "выполнить сингулярное разложение в python с использованием библиотеки numpy (функция `linalg.svd`). Записать получившуюся матрицу преобразования."
   ]
  },
  {
   "cell_type": "code",
   "execution_count": 17,
   "metadata": {},
   "outputs": [],
   "source": [
    "import numpy as np\n",
    "import numpy.linalg as la"
   ]
  },
  {
   "cell_type": "code",
   "execution_count": 18,
   "metadata": {},
   "outputs": [
    {
     "data": {
      "text/plain": [
       "array([[3, 7],\n",
       "       [5, 2]])"
      ]
     },
     "metadata": {},
     "output_type": "display_data"
    }
   ],
   "source": [
    "A = np.array([\n",
    "    [3, 7],\n",
    "    [5, 2]\n",
    "])\n",
    "\n",
    "display(A)"
   ]
  },
  {
   "cell_type": "code",
   "execution_count": 19,
   "metadata": {},
   "outputs": [],
   "source": [
    "# вычисляем сингулярное разложение\n",
    "U, s, V = la.svd(A)"
   ]
  },
  {
   "cell_type": "code",
   "execution_count": 20,
   "metadata": {},
   "outputs": [],
   "source": [
    "# преобразуем вектор диагонали в диагональную матрицу\n",
    "D = np.diag(s)"
   ]
  },
  {
   "cell_type": "code",
   "execution_count": 21,
   "metadata": {},
   "outputs": [
    {
     "data": {
      "text/plain": [
       "array([[3., 7.],\n",
       "       [5., 2.]])"
      ]
     },
     "execution_count": 21,
     "metadata": {},
     "output_type": "execute_result"
    }
   ],
   "source": [
    "# Проверка верности разложения\n",
    "U @ D @ V"
   ]
  },
  {
   "cell_type": "code",
   "execution_count": 22,
   "metadata": {},
   "outputs": [
    {
     "data": {
      "text/plain": [
       "array([[-0.85065081, -0.52573111],\n",
       "       [-0.52573111,  0.85065081]])"
      ]
     },
     "metadata": {},
     "output_type": "display_data"
    },
    {
     "data": {
      "text/plain": [
       "array([[8.71337969, 0.        ],\n",
       "       [0.        , 3.32821489]])"
      ]
     },
     "metadata": {},
     "output_type": "display_data"
    },
    {
     "data": {
      "text/plain": [
       "array([[-0.59455781, -0.80405286],\n",
       "       [ 0.80405286, -0.59455781]])"
      ]
     },
     "metadata": {},
     "output_type": "display_data"
    }
   ],
   "source": [
    "display(U)\n",
    "display(D)\n",
    "display(V)"
   ]
  },
  {
   "cell_type": "markdown",
   "metadata": {},
   "source": [
    "## Ответ\n",
    "\n",
    "$$A = \\begin{pmatrix} \n",
    "3 & 7 \\\\\n",
    "5 & 2 \n",
    "\\end{pmatrix} = U \\times D \\times V = \n",
    "\\begin{pmatrix} \n",
    "-0.85065 & -0.52573 \\\\\n",
    "-0.52573 &  0.85065\n",
    "\\end{pmatrix}\n",
    "\\times\n",
    "\\begin{pmatrix} \n",
    "8.71337 & 0 \\\\\n",
    "0       & 3.32821 \n",
    "\\end{pmatrix}\n",
    "\\times\n",
    "\\begin{pmatrix} \n",
    "-0.59455 & -0.80405 \\\\\n",
    " 0.80405 & -0.59455\n",
    "\\end{pmatrix}$$"
   ]
  }
 ],
 "metadata": {
  "kernelspec": {
   "display_name": "Python 3",
   "language": "python",
   "name": "python3"
  },
  "language_info": {
   "codemirror_mode": {
    "name": "ipython",
    "version": 3
   },
   "file_extension": ".py",
   "mimetype": "text/x-python",
   "name": "python",
   "nbconvert_exporter": "python",
   "pygments_lexer": "ipython3",
   "version": "3.7.3"
  }
 },
 "nbformat": 4,
 "nbformat_minor": 2
}
